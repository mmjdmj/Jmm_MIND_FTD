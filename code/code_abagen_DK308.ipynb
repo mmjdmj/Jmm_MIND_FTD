{
 "cells": [
  {
   "cell_type": "code",
   "execution_count": 2,
   "id": "61cd8269",
   "metadata": {},
   "outputs": [],
   "source": [
    "import abagen\n",
    "atlas = abagen.fetch_desikan_killiany\n",
    "import pandas as pd\n",
    "import nibabel as nib"
   ]
  },
  {
   "cell_type": "code",
   "execution_count": 3,
   "id": "35eb82db",
   "metadata": {},
   "outputs": [
    {
     "name": "stdout",
     "output_type": "stream",
     "text": [
      "<class 'nibabel.gifti.gifti.GiftiImage'>\n",
      "[<GiftiDataArray label[163842]>]\n"
     ]
    }
   ],
   "source": [
    "##  500.sym.aparc.annot files  can be obtained from  https://github.com/RafaelRomeroGarcia/subParcellation_symmetric\n",
    "lh_annot = 'your pathway/lh.500.sym.aparc.annot'\n",
    "lh_atlas = abagen.annot_to_gifti(lh_annot)\n",
    "rh_annot = 'your pathway/rh.500.sym.aparc.annot'\n",
    "rh_atlas = abagen.annot_to_gifti(rh_annot)\n",
    "atlas_tuple = (lh_atlas,rh_atlas)\n",
    "#print(rh_atlas.labeltable.print_summary())\n",
    "fs5_relabel_lh,fs5_relabel_rh = abagen.relabel_gifti(atlas_tuple,background=['unknown_part1','corpuscallosum_part1'])\n",
    "fs5_relabel_tuple = (fs5_relabel_lh,fs5_relabel_rh)\n",
    "#print(fs5_relabel_rh.labeltable.print_summary())\n",
    "print(type(rh_atlas))\n",
    "print(rh_atlas.darrays)\n",
    "\n",
    "nib.save(fs5_relabel_lh, 'your allen pathway/Allen/abagen/lh.500.sym.aparc.gii')\n",
    "\n",
    "nib.save(fs5_relabel_rh, 'your allen pathway/Allen/abagen/rh.500.sym.aparc.gii')\n",
    "\n",
    "Annotation = ('your allen pathway/Allen/abagen/lh.500.sym.aparc.gii','your allen pathway/Allen/abagen/rh.500.sym.aparc.gii')\n",
    "\n",
    "Annotation_fsa5 = transforms.fsaverage_to_fsaverage(Annotation, '10k')\n",
    "Annotation_fsa5_lh, Annotation_fsa5_rh = Annotation_fsa5\n",
    "\n",
    "nib.save(fs5_relabel_lh, 'your allen pathway/Allen/abagen/lh.500.aparc_fsaverage5.gii'')\n",
    "\n",
    "nib.save(fs5_relabel_rh, 'your allen pathway/Allen/abagen/rh.500.aparc_fsaverage5.gii'')\n",
    "\n",
    "\n",
    "########################## Retrieve label information for each hemisphere\n",
    "\n",
    "lh_dict = fs5_relabel_lh.labeltable.get_labels_as_dict()\n",
    "\n",
    "label_lh = pd.DataFrame.from_dict(lh_dict, orient='index', columns=['Label'])\n",
    "\n",
    "label_lh.to_csv('your allen pathway/Allen/abagen/fs5_relabel_lh_labeltable_DK318.csv', index_label='Index')\n",
    "\n",
    "rh_dict = fs5_relabel_rh.labeltable.get_labels_as_dict()\n",
    "\n",
    "label_rh = pd.DataFrame.from_dict(rh_dict, orient='index', columns=['Label'])\n",
    "\n",
    "label_rh.to_csv('your allen pathway/Allen/abagen/fs5_relabel_rh_labeltable_DK318.csv', index_label='Index')\n",
    "\n",
    "## combine the result：308_regions_names.csv"
   ]
  },
  {
   "cell_type": "code",
   "execution_count": null,
   "id": "b204548c",
   "metadata": {},
   "outputs": [],
   "source": [
    "###  Finally generate the gene matrix\n",
    "atlas_info = pd.read_csv(\"your allen pathway/308_regions_names.csv\")\n",
    "atlas_image = ('your allen pathway/Allen/abagen/lh.500.aparc_fsaverage5.gii', 'your allen pathway/Allen/abagen/rh.500.aparc_fsaverage5.gii')\n",
    "expression = abagen.get_expression_data(atlas_image, atlas_info)\n",
    "expression.to_csv('your allen pathway/Allen/abagen/allen_expression_DK308.csv')"
   ]
  }
 ],
 "metadata": {
  "kernelspec": {
   "display_name": "Python 3 (ipykernel)",
   "language": "python",
   "name": "python3"
  },
  "language_info": {
   "codemirror_mode": {
    "name": "ipython",
    "version": 3
   },
   "file_extension": ".py",
   "mimetype": "text/x-python",
   "name": "python",
   "nbconvert_exporter": "python",
   "pygments_lexer": "ipython3",
   "version": "3.12.4"
  }
 },
 "nbformat": 4,
 "nbformat_minor": 5
}
