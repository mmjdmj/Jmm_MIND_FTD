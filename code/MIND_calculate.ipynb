{
 "cells": [
  {
   "cell_type": "code",
   "execution_count": null,
   "id": "5fe79233-0c66-4aec-8857-e038a56a311d",
   "metadata": {},
   "outputs": [],
   "source": [
    "import sys\n",
    "sys.path.insert(1, 'your MIND code pathway/MIND/MIND-master/')\n",
    "from MIND import compute_MIND\n",
    "import pandas as pd\n",
    "import numpy as np\n",
    "import matplotlib.pyplot as plt\n",
    "import seaborn as sns"
   ]
  },
  {
   "cell_type": "code",
   "execution_count": null,
   "id": "85e59a8b-a53a-4504-84ff-9484c0234093",
   "metadata": {},
   "outputs": [],
   "source": [
    "pathway_file = 'your pathway/MIND/data/pathway.txt'  # freesurfer outcome pathway \n",
    "with open(pathway_file, 'r') as file:\n",
    "    pathways = file.readlines()\n",
    "\n",
    "pathways = [path.strip() for path in pathways]\n",
    "\n",
    "# calculate MIND for each subjects and save the results\n",
    "##parcellation: DK68: aparc； DK308_asymm: 500.aparc; DK308_symm: 500.sym.aparc\n",
    "for path_to_surf_dir in pathways:\n",
    "    features = ['CT', 'MC', 'Vol', 'SD', 'SA'] \n",
    "    parcellation = '500.aparc' \n",
    "    \n",
    "    try:\n",
    "       \n",
    "        MIND = compute_MIND(path_to_surf_dir, features, parcellation) \n",
    "        \n",
    "        \n",
    "        output_file = f\"{path_to_surf_dir}/scripts/MIND_DK308.csv\"\n",
    "        MIND.to_csv(output_file, index=False)\n",
    "        \n",
    "        print(f\"MIND for {path_to_surf_dir} calculated and saved to {output_file}\")\n",
    "    except Exception as e:\n",
    "        print(f\"Error processing {path_to_surf_dir}: {e}\")"
   ]
  }
 ],
 "metadata": {
  "kernelspec": {
   "display_name": "jupyter",
   "language": "python",
   "name": "jupyter"
  },
  "language_info": {
   "codemirror_mode": {
    "name": "ipython",
    "version": 3
   },
   "file_extension": ".py",
   "mimetype": "text/x-python",
   "name": "python",
   "nbconvert_exporter": "python",
   "pygments_lexer": "ipython3",
   "version": "3.12.4"
  }
 },
 "nbformat": 4,
 "nbformat_minor": 5
}
